{
 "metadata": {
  "name": "",
  "signature": "sha256:19b57f2aa5b41a905fd1ed5ebd856850dbed469a04df837b57423b24b884be28"
 },
 "nbformat": 3,
 "nbformat_minor": 0,
 "worksheets": [
  {
   "cells": [
    {
     "cell_type": "code",
     "collapsed": false,
     "input": [
      "%pylab inline\n",
      "\n",
      "from __future__ import division\n",
      "from pprint import pprint\n",
      "import numpy as np\n",
      "from scipy.misc import logsumexp\n",
      "from scipy.linalg import norm\n",
      "import h5py\n"
     ],
     "language": "python",
     "metadata": {},
     "outputs": [
      {
       "output_type": "stream",
       "stream": "stdout",
       "text": [
        "Populating the interactive namespace from numpy and matplotlib\n"
       ]
      }
     ],
     "prompt_number": 1
    },
    {
     "cell_type": "code",
     "collapsed": false,
     "input": [
      "which_param = \"L2.W\"\n",
      "with h5py.File(\"../mnist/graddetail/lr13-nanguard-spl100-sbn-sbn-200-200-10.very-end//results.h5\", \"r\") as h5:\n",
      "    print \"File content:\"\n",
      "    pprint(h5.keys())\n",
      "    log_w  = h5['learning.monitor.graddetail.log_w'][:]\n",
      "    log_px = h5['learning.monitor.graddetail.log_px'][:]\n",
      "    grad   = h5['learning.monitor.graddetail.'+which_param][:]\n",
      "\n",
      "n_datapoints, batch_size, n_samples = log_w.shape\n",
      "assert batch_size == 1\n",
      "print \"-\"*70\n",
      "print \"n_datapoints:        \", n_datapoints\n",
      "print \"primary samples:     \", n_samples\n",
      "print \"original grad shape: \", grad.shape[1:]\n",
      "\n",
      "log_px = log_px.reshape(n_datapoints)\n",
      "log_w  = log_w.reshape([n_datapoints, n_samples])\n",
      "grad   = grad.reshape([n_datapoints, n_samples, -1])\n",
      "\n",
      "print \"flat gradient shape: \", grad.shape[1:]"
     ],
     "language": "python",
     "metadata": {},
     "outputs": [
      {
       "output_type": "stream",
       "stream": "stdout",
       "text": [
        "File content:\n",
        "[u'learning.monitor.graddetail.L0.W',\n",
        " u'learning.monitor.graddetail.L0.b',\n",
        " u'learning.monitor.graddetail.L1.W',\n",
        " u'learning.monitor.graddetail.L1.b',\n",
        " u'learning.monitor.graddetail.L2.W',\n",
        " u'learning.monitor.graddetail.L2.b',\n",
        " u'learning.monitor.graddetail.L3.a',\n",
        " u'learning.monitor.graddetail.log_px',\n",
        " u'learning.monitor.graddetail.log_w',\n",
        " u'preproc.permute_columns.permutation',\n",
        " u'preproc.permute_columns.permutation_inv']\n",
        "----------------------------------------------------------------------"
       ]
      },
      {
       "output_type": "stream",
       "stream": "stdout",
       "text": [
        "\n",
        "n_datapoints:         50\n",
        "primary samples:      1000\n",
        "original grad shape:  (10, 200)\n",
        "flat gradient shape:  (1000, 2000)\n"
       ]
      }
     ],
     "prompt_number": 2
    },
    {
     "cell_type": "code",
     "collapsed": false,
     "input": [
      "n_datapoints = 25\n",
      "\n",
      "log_px = log_px[-n_datapoints:]\n",
      "log_w  = log_w[-n_datapoints:]\n",
      "grad   = grad[-n_datapoints:]\n"
     ],
     "language": "python",
     "metadata": {},
     "outputs": [],
     "prompt_number": 3
    },
    {
     "cell_type": "code",
     "collapsed": false,
     "input": [
      "print \"avg_x log(px): \", np.mean(log_px)\n",
      "\n",
      "# Calc mormalized \\omega\n",
      "w_norm = np.exp(log_w-log_px[:, None])\n",
      "\n",
      "assert np.allclose(w_norm.sum(axis=1), 1, atol=0.01)  # they should sum to one!\n",
      "\n",
      "grad_best = np.sum(w_norm[:,:,None] * grad[:,:,:], axis=1)   # best gradient estimate using all samples\n",
      "grad_best = np.mean(grad_best, axis=0)"
     ],
     "language": "python",
     "metadata": {},
     "outputs": [
      {
       "output_type": "stream",
       "stream": "stdout",
       "text": [
        "avg_x log(px):  -83.8496777344\n"
       ]
      }
     ],
     "prompt_number": 4
    },
    {
     "cell_type": "code",
     "collapsed": false,
     "input": [
      "subsets = [1, 2, 3, 4, 5, 10, 25, 50, 100, 250] #, 500]\n",
      "n_iter = 100"
     ],
     "language": "python",
     "metadata": {},
     "outputs": [],
     "prompt_number": 5
    },
    {
     "cell_type": "code",
     "collapsed": false,
     "input": [
      "log_px_bias = {}\n",
      "log_px_std = {}\n",
      "grad_bias = {}\n",
      "grad_std = {}\n",
      "rgn_bias = {}\n",
      "rgn_std = {}\n",
      "for subset_size in subsets:\n",
      "    print \"------------------------- using %d samples ---\" % subset_size\n",
      "    all_log_px_ = []  # one avg_x log(p(x)) estimate per subsample-set\n",
      "    all_grad_ = []    # one avg_x grad ... estimate per subsample-set\n",
      "    for i in xrange(n_iter):\n",
      "        # subsamples WITH replacement \n",
      "        subset = np.random.randint(0, n_samples, size=(subset_size,))\n",
      "        grad_   = grad[:, subset, :]  # resampled gradients\n",
      "        log_w_  = log_w[:, subset]    # resampled, unnormalized weights\n",
      "        log_px_ = logsumexp(log_w_, axis=1)\n",
      "        \n",
      "        w_norm_ = np.exp(log_w_-log_px_[:, None])\n",
      "        assert np.allclose(w_norm_.sum(axis=1), 1, atol=0.0001)  # they should sum to one!\n",
      "        \n",
      "        # remember log(px(x)) estimate using subset of samples\n",
      "        all_log_px_.append( np.mean(log_px_) )\n",
      "\n",
      "        # Gradient estimate using subset of samples:\n",
      "        grad_ = np.sum(w_norm_[:,:,None]*grad_[:,:,:], axis=1)\n",
      "        assert grad_.shape[0] == n_datapoints\n",
      "        grad_ = np.mean(grad_, axis=0) \n",
      "        \n",
      "        all_grad_.append( grad_ ) \n",
      "      \n",
      "    # log(p(x))\n",
      "    bias = np.mean(all_log_px_)-np.mean(log_px)\n",
      "    std  = np.std(all_log_px_) \n",
      "    print \"avg_{%d  %d-sample estimates}  avg_x [log(px(x))]: %6.2f     (est. bias: %6.2f)\"% (n_iter, subset_size, np.mean(all_log_px_), bias)\n",
      "    print \"std_{%d  %d-sample estimates}  avg_x [log(px(x))]: %6.3f\" % (n_iter, subset_size, std) \n",
      "    log_px_bias[subset_size] = bias\n",
      "    log_px_std[subset_size] = std\n",
      "       \n",
      "    # gradient\n",
      "    all_grad_ = np.asarray(all_grad_)\n",
      "    bias = ( np.mean(all_grad_, axis=0) - grad_best)# / norm(grad_best)\n",
      "    std  = ( np.std(all_grad_, axis=0))\n",
      "    grad_bias[subset_size] = bias\n",
      "    grad_std[subset_size] = std\n",
      "    #print \"avg_{%d  %d-sample estimates}  avg_x [(..)]: %6.3f\" % (n_iter, subset_size, bias)\n",
      "    #print \"std_{%d  %d-sample estimates}  avg_x [(..)]: %6.3f\" % (n_iter, subset_size, std)\n",
      "\n",
      "    # relative gradient norm\n",
      "    #bias = np.mean(all_rgn_)\n",
      "    #std  = np.std(all_rgn_)\n",
      "    #print \"avg_{%d  %d-sample estimates}  avg_x [RGN(..)]: %6.3f\" % (n_iter, subset_size, bias)\n",
      "    #print \"std_{%d  %d-sample estimates}  avg_x [RGN(..)]: %6.3f\" % (n_iter, subset_size, std)\n",
      "    #rgn_bias[subset_size] = bias\n",
      "    #rgn_std[subset_size] = std\n",
      "    "
     ],
     "language": "python",
     "metadata": {},
     "outputs": [
      {
       "output_type": "stream",
       "stream": "stdout",
       "text": [
        "------------------------- using 1 samples ---\n",
        "avg_{100  1-sample estimates}  avg_x [log(px(x))]: -102.93     (est. bias: -19.08)"
       ]
      },
      {
       "output_type": "stream",
       "stream": "stdout",
       "text": [
        "\n",
        "std_{100  1-sample estimates}  avg_x [log(px(x))]:  1.538\n",
        "------------------------- using 2 samples ---\n",
        "avg_{100  2-sample estimates}  avg_x [log(px(x))]: -98.54     (est. bias: -14.69)"
       ]
      },
      {
       "output_type": "stream",
       "stream": "stdout",
       "text": [
        "\n",
        "std_{100  2-sample estimates}  avg_x [log(px(x))]:  1.098\n",
        "------------------------- using 3 samples ---\n",
        "avg_{100  3-sample estimates}  avg_x [log(px(x))]: -96.76     (est. bias: -12.92)"
       ]
      },
      {
       "output_type": "stream",
       "stream": "stdout",
       "text": [
        "\n",
        "std_{100  3-sample estimates}  avg_x [log(px(x))]:  0.845\n",
        "------------------------- using 4 samples ---\n",
        "avg_{100  4-sample estimates}  avg_x [log(px(x))]: -95.69     (est. bias: -11.84)"
       ]
      },
      {
       "output_type": "stream",
       "stream": "stdout",
       "text": [
        "\n",
        "std_{100  4-sample estimates}  avg_x [log(px(x))]:  0.764\n",
        "------------------------- using 5 samples ---\n",
        "avg_{100  5-sample estimates}  avg_x [log(px(x))]: -94.82     (est. bias: -10.97)"
       ]
      },
      {
       "output_type": "stream",
       "stream": "stdout",
       "text": [
        "\n",
        "std_{100  5-sample estimates}  avg_x [log(px(x))]:  0.745\n",
        "------------------------- using 10 samples ---\n",
        "avg_{100  10-sample estimates}  avg_x [log(px(x))]: -92.72     (est. bias:  -8.87)"
       ]
      },
      {
       "output_type": "stream",
       "stream": "stdout",
       "text": [
        "\n",
        "std_{100  10-sample estimates}  avg_x [log(px(x))]:  0.582\n",
        "------------------------- using 25 samples ---\n",
        "avg_{100  25-sample estimates}  avg_x [log(px(x))]: -90.39     (est. bias:  -6.54)"
       ]
      },
      {
       "output_type": "stream",
       "stream": "stdout",
       "text": [
        "\n",
        "std_{100  25-sample estimates}  avg_x [log(px(x))]:  0.459\n",
        "------------------------- using 50 samples ---\n",
        "avg_{100  50-sample estimates}  avg_x [log(px(x))]: -88.91     (est. bias:  -5.06)"
       ]
      },
      {
       "output_type": "stream",
       "stream": "stdout",
       "text": [
        "\n",
        "std_{100  50-sample estimates}  avg_x [log(px(x))]:  0.382\n",
        "------------------------- using 100 samples ---\n",
        "avg_{100  100-sample estimates}  avg_x [log(px(x))]: -87.55     (est. bias:  -3.70)"
       ]
      },
      {
       "output_type": "stream",
       "stream": "stdout",
       "text": [
        "\n",
        "std_{100  100-sample estimates}  avg_x [log(px(x))]:  0.371\n",
        "------------------------- using 250 samples ---\n",
        "avg_{100  250-sample estimates}  avg_x [log(px(x))]: -86.08     (est. bias:  -2.23)"
       ]
      },
      {
       "output_type": "stream",
       "stream": "stdout",
       "text": [
        "\n",
        "std_{100  250-sample estimates}  avg_x [log(px(x))]:  0.271\n"
       ]
      }
     ],
     "prompt_number": 6
    },
    {
     "cell_type": "heading",
     "level": 3,
     "metadata": {},
     "source": [
      "Bias/variance of $avg_{x} \\log(p(x))$"
     ]
    },
    {
     "cell_type": "code",
     "collapsed": false,
     "input": [
      "title(\"Bias of $avg_{x} \\log(p(x))$\")\n",
      "xlabel(\"# samples\")\n",
      "#ylabel()\n",
      "plot(subsets, [log_px_bias[s] for s in subsets])"
     ],
     "language": "python",
     "metadata": {},
     "outputs": [
      {
       "metadata": {},
       "output_type": "pyout",
       "prompt_number": 7,
       "text": [
        "[<matplotlib.lines.Line2D at 0x31da510>]"
       ]
      },
      {
       "metadata": {},
       "output_type": "display_data",
       "png": "[encoded data removed]",
       "text": [
        "<matplotlib.figure.Figure at 0x1f01350>"
       ]
      }
     ],
     "prompt_number": 7
    },
    {
     "cell_type": "code",
     "collapsed": false,
     "input": [
      "title(\"StdDev of $avg_{x} \\log(p(x))$\")\n",
      "xlabel(\"# samples\")\n",
      "#ylabel()\n",
      "plot(subsets, [log_px_std[s] for s in subsets])"
     ],
     "language": "python",
     "metadata": {},
     "outputs": [
      {
       "metadata": {},
       "output_type": "pyout",
       "prompt_number": 8,
       "text": [
        "[<matplotlib.lines.Line2D at 0x64d3290>]"
       ]
      },
      {
       "metadata": {},
       "output_type": "display_data",
       "png": "[encoded data removed]",
       "text": [
        "<matplotlib.figure.Figure at 0x3148310>"
       ]
      }
     ],
     "prompt_number": 8
    },
    {
     "cell_type": "heading",
     "level": 3,
     "metadata": {},
     "source": [
      "Bias/variance of $avg_x \\nabla_\\theta \\log(p(x))$ "
     ]
    },
    {
     "cell_type": "code",
     "collapsed": false,
     "input": [
      "title(\"gradient bias\")\n",
      "xlabel(\"# samples\")\n",
      "#ylabel()\n",
      "plot(subsets, [np.mean(np.abs(grad_bias[s])) for s in subsets])\n",
      "#plot(subsets, [norm(grad_bias[s]) for s in subsets])\n",
      "#ylim(0, 0.6)"
     ],
     "language": "python",
     "metadata": {},
     "outputs": [
      {
       "metadata": {},
       "output_type": "pyout",
       "prompt_number": 11,
       "text": [
        "[<matplotlib.lines.Line2D at 0x6516610>]"
       ]
      },
      {
       "metadata": {},
       "output_type": "display_data",
       "png": "[encoded data removed]",
       "text": [
        "<matplotlib.figure.Figure at 0x64d6550>"
       ]
      }
     ],
     "prompt_number": 11
    },
    {
     "cell_type": "code",
     "collapsed": false,
     "input": [
      "title(\"StdDev of gradient estimates\")\n",
      "xlabel(\"# samples\")\n",
      "#ylabel()\n",
      "#ylim(0, 0.02)\n",
      "plot(subsets, [np.mean(grad_std[s]) for s in subsets])\n",
      "#plot(subsets, [norm(grad_std[s]) for s in subsets])"
     ],
     "language": "python",
     "metadata": {},
     "outputs": [
      {
       "metadata": {},
       "output_type": "pyout",
       "prompt_number": 10,
       "text": [
        "[<matplotlib.lines.Line2D at 0x3310ed0>]"
       ]
      },
      {
       "metadata": {},
       "output_type": "display_data",
       "png": "[encoded data removed]",
       "text": [
        "<matplotlib.figure.Figure at 0x64fff10>"
       ]
      }
     ],
     "prompt_number": 10
    },
    {
     "cell_type": "code",
     "collapsed": false,
     "input": [],
     "language": "python",
     "metadata": {},
     "outputs": [],
     "prompt_number": 10
    }
   ],
   "metadata": {}
  }
 ]
}